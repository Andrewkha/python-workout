{
 "cells": [
  {
   "cell_type": "markdown",
   "metadata": {},
   "source": [
    "# Exercise 38: Ice cream scoop\n",
    "\n",
    "Class representing a single scoop of ice cream.\n",
    "The sole attribute is \"flavor\", a string."
   ]
  },
  {
   "cell_type": "code",
   "execution_count": 1,
   "metadata": {},
   "outputs": [
    {
     "name": "stdout",
     "output_type": "stream",
     "text": [
      "chocolate\n",
      "vanilla\n",
      "persimmon\n"
     ]
    }
   ],
   "source": [
    "class Scoop:\n",
    "    def __init__(self, flavor):\n",
    "        self.flavor = flavor\n",
    "        \n",
    "s1 = Scoop('chocolate')\n",
    "s2 = Scoop('vanilla')\n",
    "s3 = Scoop('persimmon')\n",
    "\n",
    "for one_scoop in [s1, s2, s3]:\n",
    "    print(one_scoop.flavorc)"
   ]
  },
  {
   "cell_type": "markdown",
   "metadata": {},
   "source": [
    "# Exercise 39: Ice cream bowl\n",
    "\n",
    "Class representing a bowl of ice cream.\n",
    "\n",
    "The \"scoops\" attribute is a list, containing scoops.\n",
    "You can add one or more scoops with the \"add_scoops\" method."
   ]
  },
  {
   "cell_type": "code",
   "execution_count": 5,
   "metadata": {
    "scrolled": false
   },
   "outputs": [
    {
     "name": "stdout",
     "output_type": "stream",
     "text": [
      "chocolate\n",
      "vanilla\n",
      "persimmon\n"
     ]
    }
   ],
   "source": [
    "class Bowl:\n",
    "    def __init__(self):\n",
    "        self.scoops = []\n",
    "    def add_scoops(self, *new_scoops):\n",
    "        for one_scoop in new_scoops:\n",
    "            self.scoops.append(one_scoop)\n",
    "    def __repr__(self):\n",
    "        return '\\n'.join(one_scoop.flavor\n",
    "                          for one_scoop in self.scoops)\n",
    "            \n",
    "\n",
    "\n",
    "b = Bowl()\n",
    "b.add_scoops(s1, s2)\n",
    "b.add_scoops(s3)\n",
    "print(b)\n"
   ]
  },
  {
   "cell_type": "markdown",
   "metadata": {},
   "source": [
    "# Exercise 40: Bowl with limits\n",
    "\n",
    "Class representing a bowl of ice cream.\n",
    "\n",
    "The class attribute max_scoops indicates the\n",
    "maximum number of scoops that the bowl can contain,\n",
    "assuming that the \"add_scoops\" method is used\n",
    "to add them.\n",
    "\n",
    "The \"scoops\" attribute is a list, containing scoops.\n",
    "You can add one or more scoops with the \"add_scoops\" method."
   ]
  },
  {
   "cell_type": "code",
   "execution_count": 8,
   "metadata": {},
   "outputs": [
    {
     "name": "stdout",
     "output_type": "stream",
     "text": [
      "chocolate\n",
      "vanilla\n",
      "persimmon\n"
     ]
    }
   ],
   "source": [
    "class Bowl:\n",
    "    max_scoops = 3\n",
    "    \n",
    "    def __init__(self):\n",
    "        self.scoops = []\n",
    "    def add_scoops(self, *new_scoops):\n",
    "        for one_scoop in new_scoops:\n",
    "            if len(self.scoops) >= Bowl.max_scoops:\n",
    "                break\n",
    "            self.scoops.append(one_scoop)\n",
    "    def __repr__(self):\n",
    "        return '\\n'.join(one_scoop.flavor\n",
    "                          for one_scoop in self.scoops)\n",
    "            \n",
    "\n",
    "s4 = Scoop('flavor 4')\n",
    "s5 = Scoop('flavor 5')\n",
    "\n",
    "b = Bowl()\n",
    "b.add_scoops(s1, s2)\n",
    "b.add_scoops(s3, s4)\n",
    "b.add_scoops(s5)\n",
    "print(b)\n"
   ]
  },
  {
   "cell_type": "markdown",
   "metadata": {},
   "source": [
    "# Exercise 41: Big bowl\n",
    "\n",
    "Class representing a bowl of ice cream, which can take up to 5 scoops."
   ]
  },
  {
   "cell_type": "code",
   "execution_count": 15,
   "metadata": {},
   "outputs": [
    {
     "name": "stdout",
     "output_type": "stream",
     "text": [
      "**** Bowl\n",
      "chocolate\n",
      "vanilla\n",
      "persimmon\n",
      "**** BigBowl\n",
      "chocolate\n",
      "vanilla\n",
      "persimmon\n",
      "flavor 4\n",
      "flavor 5\n"
     ]
    }
   ],
   "source": [
    "class Bowl:\n",
    "    max_scoops = 3\n",
    "    \n",
    "    def __init__(self):\n",
    "        self.scoops = []\n",
    "    def add_scoops(self, *new_scoops):\n",
    "        for one_scoop in new_scoops:\n",
    "            if len(self.scoops) >= self.max_scoops:\n",
    "                break\n",
    "            self.scoops.append(one_scoop)\n",
    "    def __repr__(self):\n",
    "        return '\\n'.join(one_scoop.flavor\n",
    "                          for one_scoop in self.scoops)\n",
    "            \n",
    "\n",
    "s4 = Scoop('flavor 4')\n",
    "s5 = Scoop('flavor 5')\n",
    "s6 = Scoop('flavor 6')\n",
    "\n",
    "print(\"**** Bowl\")\n",
    "b = Bowl()\n",
    "b.add_scoops(s1, s2)\n",
    "b.add_scoops(s3, s4)\n",
    "b.add_scoops(s5)\n",
    "print(b)\n",
    "\n",
    "\n",
    "class BigBowl(Bowl):\n",
    "    max_scoops = 5\n",
    "\n",
    "\n",
    "print(\"**** BigBowl\")\n",
    "bb = BigBowl()\n",
    "bb.add_scoops(s1, s2)\n",
    "bb.add_scoops(s3, s4)\n",
    "bb.add_scoops(s5)\n",
    "bb.add_scoops(s6)\n",
    "print(bb)\n",
    "\n"
   ]
  },
  {
   "cell_type": "markdown",
   "metadata": {},
   "source": [
    "# Exercise 42: Flexible Dict\n",
    "\n",
    "Dict that lets you use a string or int somewhat interchangeably.\n"
   ]
  },
  {
   "cell_type": "code",
   "execution_count": 18,
   "metadata": {},
   "outputs": [
    {
     "name": "stdout",
     "output_type": "stream",
     "text": [
      "100\n",
      "500\n",
      "500\n",
      "100\n"
     ]
    }
   ],
   "source": [
    "class FlexibleDict(dict):\n",
    "    def __getitem__(self, key):\n",
    "        try:\n",
    "            if key in self:\n",
    "                pass\n",
    "\n",
    "            elif str(key) in self:\n",
    "                key = str(key)\n",
    "\n",
    "            elif int(key) in self:\n",
    "                key = int(key)\n",
    "        except ValueError:\n",
    "            pass\n",
    "            \n",
    "        return dict.__getitem__(self, key)\n",
    "\n",
    "        \n",
    "\n",
    "fd = FlexibleDict()\n",
    "\n",
    "fd['a'] = 100\n",
    "print(fd['a'])  # get 100\n",
    "\n",
    "fd[5] = 500\n",
    "print(fd[5])  # get 500\n",
    "\n",
    "print(fd['5'])  # get 500\n",
    "\n",
    "fd['1'] = 100\n",
    "print(fd[1])  # get 100"
   ]
  },
  {
   "cell_type": "code",
   "execution_count": null,
   "metadata": {},
   "outputs": [],
   "source": []
  }
 ],
 "metadata": {
  "kernelspec": {
   "display_name": "Python 3",
   "language": "python",
   "name": "python3"
  },
  "language_info": {
   "codemirror_mode": {
    "name": "ipython",
    "version": 3
   },
   "file_extension": ".py",
   "mimetype": "text/x-python",
   "name": "python",
   "nbconvert_exporter": "python",
   "pygments_lexer": "ipython3",
   "version": "3.8.3"
  }
 },
 "nbformat": 4,
 "nbformat_minor": 4
}
